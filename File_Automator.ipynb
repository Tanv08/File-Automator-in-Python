{
 "cells": [
  {
   "cell_type": "code",
   "execution_count": 42,
   "id": "9a91eb0c",
   "metadata": {},
   "outputs": [],
   "source": [
    "import os,shutil"
   ]
  },
  {
   "cell_type": "code",
   "execution_count": 43,
   "id": "579c731f",
   "metadata": {},
   "outputs": [],
   "source": [
    "path = (r\"C:/Users/15512/Desktop/CheatSheets/\")"
   ]
  },
  {
   "cell_type": "code",
   "execution_count": 46,
   "id": "eaf2256a",
   "metadata": {},
   "outputs": [
    {
     "data": {
      "text/plain": [
       "['images files', 'pdf files', 'video files']"
      ]
     },
     "execution_count": 46,
     "metadata": {},
     "output_type": "execute_result"
    }
   ],
   "source": [
    "file_name = os.listdir(path)\n",
    "file_name"
   ]
  },
  {
   "cell_type": "code",
   "execution_count": 47,
   "id": "5ff0a7b0",
   "metadata": {},
   "outputs": [],
   "source": [
    "folder_names = ['pdf files','images files','video files']\n",
    "\n",
    "for loop in range(0,3):\n",
    "    if not os.path.exists(file_path + folder_names[loop]):\n",
    "        print(path+folder_names[loop])\n",
    "        os.makedirs(path+folder_names[loop])\n",
    "        \n",
    "for file in file_name:\n",
    "    if \".pdf\" in file and not os.path.exists(path + \"pdf files/\" + file):\n",
    "        shutil.move(path + file,path + \"pdf files/\" + file)\n",
    "    elif \".png\" in file and not os.path.exists(path + \"image files/\" + file):\n",
    "        shutil.move(path + file,path + \"images files/\" + file)\n",
    "    elif \".mp4\" in file and not os.path.exists(path + \"video files/\" + file):\n",
    "        shutil.move(path + file,path +\"video files/\" + file)"
   ]
  },
  {
   "cell_type": "code",
   "execution_count": null,
   "id": "65d758fd",
   "metadata": {},
   "outputs": [],
   "source": []
  }
 ],
 "metadata": {
  "kernelspec": {
   "display_name": "Python 3 (ipykernel)",
   "language": "python",
   "name": "python3"
  },
  "language_info": {
   "codemirror_mode": {
    "name": "ipython",
    "version": 3
   },
   "file_extension": ".py",
   "mimetype": "text/x-python",
   "name": "python",
   "nbconvert_exporter": "python",
   "pygments_lexer": "ipython3",
   "version": "3.9.7"
  }
 },
 "nbformat": 4,
 "nbformat_minor": 5
}
